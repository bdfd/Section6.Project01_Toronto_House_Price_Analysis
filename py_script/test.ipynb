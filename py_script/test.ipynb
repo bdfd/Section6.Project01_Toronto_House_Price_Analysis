{
 "cells": [
  {
   "cell_type": "code",
   "execution_count": 1,
   "metadata": {},
   "outputs": [],
   "source": [
    "import os\n",
    "import numpy as np\n",
    "import pandas as pd"
   ]
  },
  {
   "cell_type": "code",
   "execution_count": 2,
   "metadata": {},
   "outputs": [],
   "source": [
    "value_names = ['Region','ComIndex','Composite','SFDIndex', 'SingleFamilyDetached',\n",
    "                'SFAIndex','SingleFamilyAttached','THIndex','TownHouse','ApaIndex','Apartment']"
   ]
  },
  {
   "cell_type": "code",
   "execution_count": 4,
   "metadata": {},
   "outputs": [
    {
     "name": "stdout",
     "output_type": "stream",
     "text": [
      "          Region  ComIndex        Composite  SFDIndex SingleFamilyDetached  \\\n",
      "0     TREB Total     145.6   $447,400 7.30%     144.7       $544,800 8.39%   \n",
      "1  Halton Region     152.3   $501,100 7.10%     151.5       $577,600 9.15%   \n",
      "2     Burlington     156.7  $431,700 10.90%     157.2      $507,100 14.33%   \n",
      "\n",
      "  Index.2 Benchmark Yr./Yr. % Chg..2 Index.3 Benchmark Yr./Yr. % Chg..3  \\\n",
      "0   149.2             $426,900 8.51%   142.0             $323,500 6.13%   \n",
      "1   151.3             $386,600 6.32%   150.1             $305,300 8.30%   \n",
      "2   151.6             $362,400 9.22%   157.3             $315,500 8.63%   \n",
      "\n",
      "  Index.4 Benchmark Yr./Yr. % Chg..4  \n",
      "0   143.7             $303,300 4.06%  \n",
      "1       -                        - -  \n",
      "2       -                        - -  \n",
      "Index(['Region', 'ComIndex', 'Composite', 'SFDIndex', 'SingleFamilyDetached',\n",
      "       'Index.2', 'Benchmark Yr./Yr. % Chg..2', 'Index.3',\n",
      "       'Benchmark Yr./Yr. % Chg..3', 'Index.4', 'Benchmark Yr./Yr. % Chg..4'],\n",
      "      dtype='object')\n"
     ]
    }
   ],
   "source": [
    "df = pd.read_csv(\"201202t1.csv\",skiprows =1)\n",
    "df = df.rename(columns={'Unnamed: 0':value_names[0],\n",
    "                        'Index':value_names[1],\n",
    "                        'Benchmark Yr./Yr. % Chg.':value_names[2],\n",
    "                        'Index.1':value_names[3],\n",
    "                        'Benchmark Yr./Yr. % Chg..1':value_names[4]})\n",
    "print(df.head(3))\n",
    "print(df.columns)"
   ]
  },
  {
   "cell_type": "code",
   "execution_count": 133,
   "metadata": {},
   "outputs": [
    {
     "name": "stdout",
     "output_type": "stream",
     "text": [
      "             Region  ComIndex Composite  SFDIndex SingleFamilyDetached  \\\n",
      "0        TREB Total     145.6  $447,400     144.7             $544,800   \n",
      "1     Halton Region     152.3  $501,100     151.5             $577,600   \n",
      "2        Burlington     156.7  $431,700     157.2             $507,100   \n",
      "3      Halton Hills     142.8  $426,300     144.0             $464,600   \n",
      "4            Milton     143.9  $407,500     138.3             $486,700   \n",
      "5          Oakville     161.2  $611,100     160.3             $680,100   \n",
      "6       Peel Region     140.9  $390,300     140.9             $483,600   \n",
      "7          Brampton     134.9  $365,400     134.9             $414,500   \n",
      "8           Caledon     137.3  $489,700     137.2             $503,000   \n",
      "9       Mississauga     145.6  $401,200     148.6             $560,000   \n",
      "10  City of Toronto     150.5  $482,600     151.6             $660,000   \n",
      "\n",
      "   Composite Change SingleFamilyDetached Change  \n",
      "0             7.30%                       8.39%  \n",
      "1             7.10%                       9.15%  \n",
      "2            10.90%                      14.33%  \n",
      "3             4.08%                       6.19%  \n",
      "4             5.89%                       5.49%  \n",
      "5             7.97%                      11.01%  \n",
      "6             7.07%                       6.50%  \n",
      "7             6.98%                       6.72%  \n",
      "8             4.17%                       4.57%  \n",
      "9             7.37%                       6.83%  \n",
      "10            6.29%                       8.36%  \n"
     ]
    },
    {
     "data": {
      "text/plain": [
       "['Region',\n",
       " 'ComIndex',\n",
       " 'Composite',\n",
       " 'SFDIndex',\n",
       " 'SingleFamilyDetached',\n",
       " 'Composite Change',\n",
       " 'SingleFamilyDetached Change']"
      ]
     },
     "execution_count": 133,
     "metadata": {},
     "output_type": "execute_result"
    }
   ],
   "source": [
    "df[['Composite','Composite Change']] = df['Composite'].str.split(' ', 1 , expand=True)\n",
    "df[['SingleFamilyDetached','SingleFamilyDetached Change']] = df['SingleFamilyDetached'].str.split(' ', 1 , expand=True)\n",
    "print(df)\n",
    "cols = df.columns.tolist()\n",
    "cols"
   ]
  },
  {
   "cell_type": "code",
   "execution_count": 134,
   "metadata": {},
   "outputs": [
    {
     "name": "stdout",
     "output_type": "stream",
     "text": [
      "          Region  ComIndex Composite Composite Change  SFDIndex  \\\n",
      "0     TREB Total     145.6  $447,400            7.30%     144.7   \n",
      "1  Halton Region     152.3  $501,100            7.10%     151.5   \n",
      "2     Burlington     156.7  $431,700           10.90%     157.2   \n",
      "\n",
      "  SingleFamilyDetached SingleFamilyDetached Change  \n",
      "0             $544,800                       8.39%  \n",
      "1             $577,600                       9.15%  \n",
      "2             $507,100                      14.33%  \n"
     ]
    }
   ],
   "source": [
    "df = df[['Region',\n",
    "        'ComIndex',\n",
    "        'Composite',\n",
    "        'Composite Change',\n",
    "        'SFDIndex',\n",
    "        'SingleFamilyDetached',\n",
    "        'SingleFamilyDetached Change'\n",
    "        ]]\n",
    "print(df.head(3))\n",
    "\n",
    "df.to_csv(r'output.csv', index = False)"
   ]
  }
 ],
 "metadata": {
  "interpreter": {
   "hash": "d65f8af9b1347936d5c0a715a1a101b7602968bee42a1bc2161adfc924f1cbb0"
  },
  "kernelspec": {
   "display_name": "Python 3.9.0 64-bit",
   "name": "python3"
  },
  "language_info": {
   "codemirror_mode": {
    "name": "ipython",
    "version": 3
   },
   "file_extension": ".py",
   "mimetype": "text/x-python",
   "name": "python",
   "nbconvert_exporter": "python",
   "pygments_lexer": "ipython3",
   "version": "3.9.0"
  },
  "orig_nbformat": 4
 },
 "nbformat": 4,
 "nbformat_minor": 2
}
